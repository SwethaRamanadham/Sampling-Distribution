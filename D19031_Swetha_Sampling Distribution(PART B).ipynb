{
 "cells": [
  {
   "cell_type": "markdown",
   "metadata": {},
   "source": [
    "# Part B (Confidence Interval Estimates)"
   ]
  },
  {
   "cell_type": "markdown",
   "metadata": {},
   "source": [
    "#### - By Swetha Ramanadham, D19031\n"
   ]
  },
  {
   "cell_type": "markdown",
   "metadata": {},
   "source": [
    "### Introduction:"
   ]
  },
  {
   "cell_type": "markdown",
   "metadata": {},
   "source": [
    "\n",
    "With Variable of Intrest as 'MontlyIncome' from 'Attrition' dataset,we ll consider 'Monthly Income' variable as population and and estimate confidence interval and we ll see how the width of CI varies for different Confidence levels and different sample sizes with same level of confidence"
   ]
  },
  {
   "cell_type": "code",
   "execution_count": 1,
   "metadata": {},
   "outputs": [],
   "source": [
    "import pandas as pd\n",
    "import numpy as np\n",
    "import matplotlib.pyplot as plt\n",
    "import os\n",
    "import seaborn as sns\n",
    "os.chdir(\"C:\\\\Users\\\\R swetha\\\\Desktop\\\\Attrition\")\n",
    "a = pd.read_csv(\"attrition.csv\")\n",
    "#attrition\n"
   ]
  },
  {
   "cell_type": "code",
   "execution_count": 2,
   "metadata": {},
   "outputs": [
    {
     "data": {
      "text/plain": [
       "Index(['Age', 'Attrition', 'BusinessTravel', 'Department', 'EducationField',\n",
       "       'EnvironmentSatisfaction', 'Gender', 'JobInvolvement', 'JobLevel',\n",
       "       'JobSatisfaction', 'MaritalStatus', 'MonthlyIncome', 'OverTime',\n",
       "       'TotalWorkingYears', 'WorkLifeBalance', 'YearsAtCompany',\n",
       "       'YearsInCurrentRole', 'YearsSinceLastPromotion',\n",
       "       'YearsWithCurrManager'],\n",
       "      dtype='object')"
      ]
     },
     "execution_count": 2,
     "metadata": {},
     "output_type": "execute_result"
    }
   ],
   "source": [
    "a.columns"
   ]
  },
  {
   "cell_type": "markdown",
   "metadata": {},
   "source": [
    "#### Question 1:  Consider the entire MonthlyIncome variable as population and Caluclate population mean"
   ]
  },
  {
   "cell_type": "code",
   "execution_count": 46,
   "metadata": {},
   "outputs": [
    {
     "name": "stdout",
     "output_type": "stream",
     "text": [
      "Population mean:  6502.931292517007\n"
     ]
    }
   ],
   "source": [
    "popmean = a['MonthlyIncome'].mean() #caluclating mean of population\n",
    "print(\"Population mean: \",popmean)"
   ]
  },
  {
   "cell_type": "markdown",
   "metadata": {},
   "source": [
    "#### Question 2 : Select sample'S' of size 200 from the population and caluclate a 95% CI estimate of the population mean"
   ]
  },
  {
   "cell_type": "code",
   "execution_count": 38,
   "metadata": {},
   "outputs": [
    {
     "name": "stdout",
     "output_type": "stream",
     "text": [
      "Confidence Interval:  [5498.720236574484, 6735.189763425516]\n"
     ]
    }
   ],
   "source": [
    "s = a.MonthlyIncome.sample(n=200) #Select sample S of size 200\n",
    "interval=[] #list to append values of CI\n",
    "x = s.mean()\n",
    "#sd = s.std()\n",
    "std = s.std()/(200)**0.5\n",
    "CI = x-(1.96)*std #computing CI: x-z*(std/sqrt(n))\n",
    "CI1 = x+(1.96)*std\n",
    "interval.append(CI) #appending to list interval \n",
    "interval.append(CI1)\n",
    "print(\"Confidence Interval: \",interval)"
   ]
  },
  {
   "cell_type": "markdown",
   "metadata": {},
   "source": [
    "#### Question 3: Repeat step 2 1000 times and check how many of these CI capture the true population mean"
   ]
  },
  {
   "cell_type": "code",
   "execution_count": 34,
   "metadata": {},
   "outputs": [
    {
     "name": "stdout",
     "output_type": "stream",
     "text": [
      "No of CI which capture population mean are : 950\n"
     ]
    }
   ],
   "source": [
    "count=0\n",
    "for i in range(0,1001):\n",
    "    s = a.MonthlyIncome.sample(n=200) #Select sample S of size 200\n",
    "    x = s.mean()\n",
    "    std = s.std()/(200)**0.5 \n",
    "    CI = x-(1.96)*std #computing CI: x-z*(std/sqrt(n))\n",
    "    CI1 = x+(1.96)*std \n",
    "    if popmean >=CI  and popmean <= CI1 : #checking if population mean exists in CI\n",
    "        count=count+1 #counting the no of CI\n",
    "print(\"No of CI which capture population mean are :\",count)"
   ]
  },
  {
   "cell_type": "markdown",
   "metadata": {},
   "source": [
    "## Wide vs Narrow Confidence Interval"
   ]
  },
  {
   "cell_type": "markdown",
   "metadata": {},
   "source": [
    "#### Question 4 : Collect a sample of size 200 from the population.Caluclate: a) 90% Confidence Interval b) 99% Confidence Interval estimates of population mean.which one is wider? Why do you expect one to be wider than the other"
   ]
  },
  {
   "cell_type": "code",
   "execution_count": 44,
   "metadata": {},
   "outputs": [
    {
     "name": "stdout",
     "output_type": "stream",
     "text": [
      "90% CI estimate of pop mean [5887.465236728804, 6925.804763271197]\n",
      "Range: 1038\n",
      "99% CI estimate of pop mean [5593.637243047659, 7219.632756952342]\n",
      "Range: 1626\n"
     ]
    }
   ],
   "source": [
    "s = a.MonthlyIncome.sample(n=200) #Select sample S of size 200\n",
    "interval=[] #list to append CI with 90% confidence level\n",
    "interval1=[] #list to append CI with 99% confidence level\n",
    "\n",
    "x = s.mean()\n",
    "std = s.std()/(200)**0.5 \n",
    "CI = x-(1.645)*std #computing CI: x-z*(std/sqrt(n)) \n",
    "CI1 = x+(1.645)*std\n",
    "interval.append(CI)\n",
    "interval.append(CI1)\n",
    "print(\"90% CI estimate of pop mean\",interval) #90% CI\n",
    "print(\"Range:\",round(CI1-CI)) # caluclating width/range of CI\n",
    "\n",
    "CI = x-(2.576)*std #computing CI: x-z*(std/sqrt(n))\n",
    "CI1 = x+(2.576)*std  \n",
    "interval1.append(CI)\n",
    "interval1.append(CI1)\n",
    "print(\"99% CI estimate of pop mean\",interval1) #95% CI\n",
    "print(\"Range:\",round(CI1-CI)) #caluclating width/range of CI and rounding the value\n"
   ]
  },
  {
   "cell_type": "markdown",
   "metadata": {},
   "source": [
    "Conclusion: 99% CI estimate of population mean is wider than 90% CI estimate of population mean "
   ]
  },
  {
   "cell_type": "markdown",
   "metadata": {},
   "source": [
    "#### Explanation:"
   ]
  },
  {
   "cell_type": "markdown",
   "metadata": {},
   "source": [
    "The more wider is the CI, more is the probability/chances that CI will capture the mean.\n",
    "99% confidence level indicates that CI would capture population mean with a probability 0.95.90% confidence level indicates that CI would capture population mean with a probability 0.9.\n",
    "As,99% confidence Interval estimate of mean has more probability of capturing the mean \n",
    "than 90% ,it will be more wider "
   ]
  },
  {
   "cell_type": "markdown",
   "metadata": {},
   "source": [
    "#### Question 5 : Collect two samples from the population S1 of size 200 and S2 of size 400 using both the samples.Caluclate a 90% CI estimate of Mean.which one is narrower?Theorotically which one would you expect to be narrower and why?"
   ]
  },
  {
   "cell_type": "code",
   "execution_count": 41,
   "metadata": {},
   "outputs": [
    {
     "name": "stdout",
     "output_type": "stream",
     "text": [
      "90% CI estimate of pop mean with sample size 200 [5774.978456742954, 6919.9715432570465]\n",
      "Range: 1145\n",
      "\n",
      "\n",
      "90% CI estimate of pop mean with sample size 400 [6203.87986115207, 7001.685138847931]\n",
      "Range: 798\n"
     ]
    }
   ],
   "source": [
    "s1 = a.MonthlyIncome.sample(n=200,replace=True) #Sample S1 of size 200 \n",
    "interval=[] \n",
    "x = s1.mean()\n",
    "std = s1.std()/(200)**0.5\n",
    "CI = x-(1.645)*std  #computing CI: x-z*(std/sqrt(n))\n",
    "CI1 = x+(1.645)*std\n",
    "interval.append(CI)\n",
    "interval.append(CI1)\n",
    "print(\"90% CI estimate of pop mean with sample size 200\",interval) #90% CI estimate of mean for 200 sample size \n",
    "print(\"Range:\",round(CI1-CI))\n",
    "\n",
    "print(\"\\n\")\n",
    "\n",
    "s2 = a.MonthlyIncome.sample(n=400,replace=True) #Sample S1 of size 400 \n",
    "interval1=[]\n",
    "x1 = s2.mean()\n",
    "std1 = s2.std()/(400)**0.5\n",
    "confidence = x1-(1.645)*std1 #computing CI: x-z*(std/sqrt(n))\n",
    "confidence1 = x1+(1.645)*std1 #computing CI: x-z*(std/sqrt(n))\n",
    "interval1.append(confidence)\n",
    "interval1.append(confidence1)\n",
    "print(\"90% CI estimate of pop mean with sample size 400\",interval1) #90% CI estimate of mean for 400 sample size\n",
    "print(\"Range:\",round(confidence1-confidence)) #rounding the value of range"
   ]
  },
  {
   "cell_type": "markdown",
   "metadata": {},
   "source": [
    "Conclusion:\n",
    "    90% CI estimate of pop mean with sample size 400 is narrower"
   ]
  },
  {
   "cell_type": "markdown",
   "metadata": {},
   "source": [
    "#### Explanation:"
   ]
  },
  {
   "cell_type": "markdown",
   "metadata": {},
   "source": [
    "As the size of sample increases the standard error of mean decreases.So for a larger sample, a CI with narrower width will be able to capture the population mean.So,sample size 400 has narrower CI compared to CI of sample size 200 "
   ]
  }
 ],
 "metadata": {
  "kernelspec": {
   "display_name": "Python 3",
   "language": "python",
   "name": "python3"
  },
  "language_info": {
   "codemirror_mode": {
    "name": "ipython",
    "version": 3
   },
   "file_extension": ".py",
   "mimetype": "text/x-python",
   "name": "python",
   "nbconvert_exporter": "python",
   "pygments_lexer": "ipython3",
   "version": "3.7.4"
  }
 },
 "nbformat": 4,
 "nbformat_minor": 2
}
